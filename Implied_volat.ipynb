{
 "cells": [
  {
   "cell_type": "code",
   "execution_count": 72,
   "id": "ea356735-b067-40c9-aa60-3fb9c57ab8b7",
   "metadata": {
    "tags": []
   },
   "outputs": [],
   "source": [
    "import numpy as np \n",
    "from scipy.stats import norm "
   ]
  },
  {
   "cell_type": "code",
   "execution_count": 73,
   "id": "3d6424cf-3f97-4ef3-835d-cb1144d44ed2",
   "metadata": {
    "tags": []
   },
   "outputs": [],
   "source": [
    "class VI:\n",
    "    def __init__(self, C, S, K, r, sigma, T, option_type):\n",
    "        self.C = C\n",
    "        self.S = S\n",
    "        self.K = K\n",
    "        self.r = r\n",
    "        self.sigma = sigma\n",
    "        self.T = T\n",
    "        self.option_type = option_type\n",
    "\n",
    "    def b_s(self):\n",
    "        d1 = (np.log(self.S / self.K) + (self.r + (self.sigma**2) / 2) * self.T) / (self.sigma * np.sqrt(self.T))\n",
    "        d2 = d1 - self.sigma * np.sqrt(self.T)\n",
    "\n",
    "        if self.option_type == 'Call':\n",
    "            return self.S * norm.cdf(d1) - self.K * np.exp(-self.r * self.T) * norm.cdf(d2)\n",
    "        else:\n",
    "            return self.K * np.exp(-self.r * self.T) * norm.cdf(-d2) - self.S * norm.cdf(-d1)\n",
    "\n",
    "    def vega(self):\n",
    "        d1 = (np.log(self.S / self.K) + (self.r + (self.sigma**2) / 2) * self.T) / (self.sigma * np.sqrt(self.T))\n",
    "        return self.S * np.sqrt(self.T) * norm.cdf(d1)\n",
    "\n",
    "    def IV(self, it=100, tol=1e-6):\n",
    "        for i in range(it):\n",
    "            b_s = self.b_s()\n",
    "            vega = self.vega()\n",
    "            update = (b_s - self.C) / vega\n",
    "            self.sigma = self.sigma - update\n",
    "            if abs(update) < tol:\n",
    "                break\n",
    "        return self.sigma\n",
    "\n",
    "\n"
   ]
  },
  {
   "cell_type": "code",
   "execution_count": 74,
   "id": "9a936680-553b-4770-a7a1-fb9238e32b4d",
   "metadata": {
    "tags": []
   },
   "outputs": [
    {
     "name": "stdout",
     "output_type": "stream",
     "text": [
      "Implied Volatility: 0.2994965830508453\n"
     ]
    }
   ],
   "source": [
    "option = VI(10, 100, 110, 0.05, 0.2, 1, 'Call')\n",
    "implied_volatility = option.IV()\n",
    "print(\"Implied Volatility:\", implied_volatility)"
   ]
  }
 ],
 "metadata": {
  "kernelspec": {
   "display_name": "Python 3 (ipykernel)",
   "language": "python",
   "name": "python3"
  },
  "language_info": {
   "codemirror_mode": {
    "name": "ipython",
    "version": 3
   },
   "file_extension": ".py",
   "mimetype": "text/x-python",
   "name": "python",
   "nbconvert_exporter": "python",
   "pygments_lexer": "ipython3",
   "version": "3.11.5"
  }
 },
 "nbformat": 4,
 "nbformat_minor": 5
}
